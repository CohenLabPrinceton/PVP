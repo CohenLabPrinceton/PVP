{
 "cells": [
  {
   "cell_type": "code",
   "execution_count": 2,
   "metadata": {},
   "outputs": [
    {
     "name": "stderr",
     "output_type": "stream",
     "text": [
      "2020-06-08 10:01:24,127 - vent.common.prefs - INFO - Loaded prefs from /Users/ms81/vent/prefs.json\n",
      "2020-06-08 10:01:24,129 - vent.common.prefs - INFO - Saved prefs to /Users/ms81/vent/prefs.json\n"
     ]
    }
   ],
   "source": [
    "import numpy as np\n",
    "import pylab as pl\n",
    "\n",
    "from vent.common.loggers import DataLogger"
   ]
  },
  {
   "cell_type": "markdown",
   "metadata": {},
   "source": [
    "Get an instance of the data logger, and load a file"
   ]
  },
  {
   "cell_type": "code",
   "execution_count": 3,
   "metadata": {},
   "outputs": [
    {
     "name": "stdout",
     "output_type": "stream",
     "text": [
      "Reading... ../../2020-06-04-15-54_controller_log.0.h5\n"
     ]
    }
   ],
   "source": [
    "dl = DataLogger()\n",
    "dff = dl.load_file(\"../../2020-06-04-15-54_controller_log.0.h5\")"
   ]
  },
  {
   "cell_type": "markdown",
   "metadata": {},
   "source": [
    "dff is adictionary. One can just extract waveform and control data"
   ]
  },
  {
   "cell_type": "code",
   "execution_count": 4,
   "metadata": {},
   "outputs": [],
   "source": [
    "ls_wv = dff['waveform_data']\n",
    "ls_ct = dff['control_data']"
   ]
  },
  {
   "cell_type": "markdown",
   "metadata": {},
   "source": [
    "And plot it"
   ]
  },
  {
   "cell_type": "code",
   "execution_count": 5,
   "metadata": {},
   "outputs": [],
   "source": [
    "data = np.zeros((len(ls_wv),2))\n",
    "for idx in range(len(ls_wv)):\n",
    "    data[idx,0] = ls_wv[idx][4]\n",
    "    data[idx,1] = ls_wv[idx][3]"
   ]
  },
  {
   "cell_type": "code",
   "execution_count": 8,
   "metadata": {},
   "outputs": [
    {
     "data": {
      "image/png": "[encoded data removed]",
      "text/plain": [
       "<Figure size 432x288 with 1 Axes>"
      ]
     },
     "metadata": {
      "needs_background": "light"
     },
     "output_type": "display_data"
    }
   ],
   "source": [
    "pl.plot(data[:,0] - np.min(data[:,0]), data[:,1])\n",
    "pl.plot([0,40],[5,5],'k--')\n",
    "pl.plot([0,40],[25,25],'k--')\n",
    "pl.xlim([15,20])\n",
    "pl.xlabel(\"time [s]\")\n",
    "pl.ylabel(\"pressure [cmH2O]\");"
   ]
  },
  {
   "cell_type": "markdown",
   "metadata": {},
   "source": [
    "# Plot some data"
   ]
  },
  {
   "cell_type": "markdown",
   "metadata": {},
   "source": [
    "These are three example runs on the device"
   ]
  },
  {
   "cell_type": "code",
   "execution_count": null,
   "metadata": {},
   "outputs": [],
   "source": [
    "dff = dl.load_file(\"./example_logfile/2020-06-04-15-54_controller_log.0.h5\")\n",
    "# Running on the dinky, PEEP = 5, PIP = 25\n",
    "\n",
    "\n",
    "# Running on the dinkey, PEEP = 5, PIP = 35\n",
    "\n",
    "\n",
    "# Running on the dinkey, PEEP = PIDCONTROL to 5, PIP = 25"
   ]
  },
  {
   "cell_type": "code",
   "execution_count": null,
   "metadata": {},
   "outputs": [],
   "source": [
    "if this looks good, wire up `self._DATA_Qout = 0 #self.HAL.flow_ex`"
   ]
  },
  {
   "cell_type": "code",
   "execution_count": null,
   "metadata": {},
   "outputs": [],
   "source": []
  },
  {
   "cell_type": "code",
   "execution_count": null,
   "metadata": {},
   "outputs": [],
   "source": []
  }
 ],
 "metadata": {
  "kernelspec": {
   "display_name": "Python 3",
   "language": "python",
   "name": "python3"
  },
  "language_info": {
   "codemirror_mode": {
    "name": "ipython",
    "version": 3
   },
   "file_extension": ".py",
   "mimetype": "text/x-python",
   "name": "python",
   "nbconvert_exporter": "python",
   "pygments_lexer": "ipython3",
   "version": "3.7.7"
  }
 },
 "nbformat": 4,
 "nbformat_minor": 2
}
