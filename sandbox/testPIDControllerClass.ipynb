{
 "cells": [
  {
   "cell_type": "code",
   "execution_count": 7,
   "metadata": {},
   "outputs": [
    {
     "ename": "ModuleNotFoundError",
     "evalue": "No module named 'common'",
     "output_type": "error",
     "traceback": [
      "\u001b[0;31m---------------------------------------------------------------------------\u001b[0m",
      "\u001b[0;31mModuleNotFoundError\u001b[0m                       Traceback (most recent call last)",
      "\u001b[0;32m<ipython-input-7-d24d919a7fc9>\u001b[0m in \u001b[0;36m<module>\u001b[0;34m\u001b[0m\n\u001b[1;32m      7\u001b[0m \u001b[0msys\u001b[0m\u001b[0;34m.\u001b[0m\u001b[0mpath\u001b[0m\u001b[0;34m.\u001b[0m\u001b[0mappend\u001b[0m\u001b[0;34m(\u001b[0m\u001b[0;34m'../'\u001b[0m\u001b[0;34m)\u001b[0m \u001b[0;31m# get out of the sandbox\u001b[0m\u001b[0;34m\u001b[0m\u001b[0;34m\u001b[0m\u001b[0m\n\u001b[1;32m      8\u001b[0m \u001b[0;34m\u001b[0m\u001b[0m\n\u001b[0;32m----> 9\u001b[0;31m \u001b[0;32mfrom\u001b[0m \u001b[0mvent\u001b[0m\u001b[0;34m.\u001b[0m\u001b[0mcoordinator\u001b[0m\u001b[0;34m.\u001b[0m\u001b[0mcontrol_module\u001b[0m \u001b[0;32mimport\u001b[0m \u001b[0mget_control_module\u001b[0m   \u001b[0;31m# this is the file to change\u001b[0m\u001b[0;34m\u001b[0m\u001b[0;34m\u001b[0m\u001b[0m\n\u001b[0m\u001b[1;32m     10\u001b[0m \u001b[0;31m# from vent.coordinator.common.message import SensorValues, ControlSettings, Alarm, ControlSettingName\u001b[0m\u001b[0;34m\u001b[0m\u001b[0;34m\u001b[0m\u001b[0;34m\u001b[0m\u001b[0m\n",
      "\u001b[0;32m~/Ventilator-Dev/vent/coordinator/control_module.py\u001b[0m in \u001b[0;36m<module>\u001b[0;34m\u001b[0m\n\u001b[1;32m      1\u001b[0m \u001b[0;32mimport\u001b[0m \u001b[0mnumpy\u001b[0m \u001b[0;32mas\u001b[0m \u001b[0mnp\u001b[0m\u001b[0;34m\u001b[0m\u001b[0;34m\u001b[0m\u001b[0m\n\u001b[1;32m      2\u001b[0m \u001b[0;32mimport\u001b[0m \u001b[0mtime\u001b[0m\u001b[0;34m\u001b[0m\u001b[0;34m\u001b[0m\u001b[0m\n\u001b[0;32m----> 3\u001b[0;31m \u001b[0;32mfrom\u001b[0m \u001b[0mcommon\u001b[0m\u001b[0;34m.\u001b[0m\u001b[0mmessage\u001b[0m \u001b[0;32mimport\u001b[0m \u001b[0mSensorValues\u001b[0m\u001b[0;34m,\u001b[0m \u001b[0mControlSettings\u001b[0m\u001b[0;34m,\u001b[0m \u001b[0mAlarm\u001b[0m\u001b[0;34m,\u001b[0m \u001b[0mControlSettingName\u001b[0m\u001b[0;34m\u001b[0m\u001b[0;34m\u001b[0m\u001b[0m\n\u001b[0m\u001b[1;32m      4\u001b[0m \u001b[0;34m\u001b[0m\u001b[0m\n\u001b[1;32m      5\u001b[0m \u001b[0;32mclass\u001b[0m \u001b[0mControlModuleBase\u001b[0m\u001b[0;34m:\u001b[0m\u001b[0;34m\u001b[0m\u001b[0;34m\u001b[0m\u001b[0m\n",
      "\u001b[0;31mModuleNotFoundError\u001b[0m: No module named 'common'"
     ]
    }
   ],
   "source": [
    "import threading\n",
    "import sys\n",
    "import time\n",
    "import numpy as np\n",
    "import pylab as pl\n",
    "\n",
    "sys.path.append('../') # get out of the sandbox\n",
    "\n",
    "from vent.coordinator.control_module import get_control_module   # this is the file to change\n",
    "# from vent.coordinator.common.message import SensorValues, ControlSettings, Alarm, ControlSettingName"
   ]
  },
  {
   "cell_type": "markdown",
   "metadata": {},
   "source": [
    "## First, wrap the controller in a thread"
   ]
  },
  {
   "cell_type": "code",
   "execution_count": 2,
   "metadata": {},
   "outputs": [],
   "source": [
    "class ControllerThread(threading.Thread):\n",
    "    def __init__(self, threadID, name, counter):\n",
    "        threading.Thread.__init__(self)\n",
    "        self.threadID        = threadID\n",
    "        self.name            = name\n",
    "        self.counter         = counter\n",
    "        self.ContollInstance = get_control_module(sim_mode=True)\n",
    "\n",
    "    def run(self):\n",
    "        while self.counter:\n",
    "            #     controls actuators to achieve target state\n",
    "            self.ContollInstance.run()  # run a contol update \n",
    "            time.sleep(.01)             # wait 10ms\n",
    "            self.counter -= 1\n",
    "\n",
    "    def set_controls(self, command):\n",
    "        self.ContollInstance.set_controls(command)\n",
    "        \n",
    "    def get_sensor_values(self):\n",
    "        # returns SensorValues, include a timestamp and loop counter\n",
    "        sv = self.ContollInstance.get_sensors_values()\n",
    "        sv.loop_counter = self.counter\n",
    "        return sv\n",
    "\n",
    "    def heartbeat(self):\n",
    "        print (\"%s: %s\" % (self.name, time.ctime(time.time())))\n",
    "        print(\"Internal counter =\" + str(self.counter)+'.\\n')\n"
   ]
  },
  {
   "cell_type": "markdown",
   "metadata": {},
   "source": [
    "# Set the controls"
   ]
  },
  {
   "cell_type": "markdown",
   "metadata": {},
   "source": [
    "These are the allowed control settings. Only the first five (PIP, PIP_TIME, PEEP, BPM, INSPIRATION_TIM) can be set. The others are controlled in hardware."
   ]
  },
  {
   "cell_type": "code",
   "execution_count": 3,
   "metadata": {},
   "outputs": [
    {
     "data": {
      "text/plain": [
       "[<ControlSettingName.PIP: 1>,\n",
       " <ControlSettingName.PIP_TIME: 2>,\n",
       " <ControlSettingName.PEEP: 3>,\n",
       " <ControlSettingName.BREATHS_PER_MINUTE: 4>,\n",
       " <ControlSettingName.INSPIRATION_TIME_SEC: 5>,\n",
       " <ControlSettingName.FIO2: 6>,\n",
       " <ControlSettingName.TEMP: 7>,\n",
       " <ControlSettingName.HUMIDITY: 8>,\n",
       " <ControlSettingName.VTE: 9>]"
      ]
     },
     "execution_count": 3,
     "metadata": {},
     "output_type": "execute_result"
    }
   ],
   "source": [
    "list(ControlSettingName)"
   ]
  },
  {
   "cell_type": "code",
   "execution_count": 4,
   "metadata": {},
   "outputs": [],
   "source": [
    "c1 = ControlSettings(name=ControlSettingName.PIP, value=22, min_value=20, \\\n",
    "                          max_value=24, timestamp=time.time())\n",
    "\n",
    "c2 = ControlSettings(name=ControlSettingName.PIP_TIME, value=0.5, min_value=0.2, \\\n",
    "                          max_value=0.5, timestamp=time.time())\n",
    "\n",
    "c3 = ControlSettings(name=ControlSettingName.PEEP, value=5, min_value=4, \\\n",
    "                          max_value=6, timestamp=time.time())\n",
    "\n",
    "c4 = ControlSettings(name=ControlSettingName.BREATHS_PER_MINUTE, value=10, \\\n",
    "                          min_value=18, max_value=22, timestamp=time.time())\n",
    "\n",
    "c5 = ControlSettings(name=ControlSettingName.INSPIRATION_TIME_SEC, value=2.0, \n",
    "                          min_value=1.0, max_value=1.5, timestamp=time.time())"
   ]
  },
  {
   "cell_type": "code",
   "execution_count": 5,
   "metadata": {},
   "outputs": [],
   "source": [
    "#Set the controls"
   ]
  },
  {
   "cell_type": "code",
   "execution_count": 6,
   "metadata": {},
   "outputs": [],
   "source": [
    "runtime = 30 # run this for 30 seconds\n",
    "\n",
    "thread1 = ControllerThread(1, \"Controller-1\", runtime/0.01) #5sec in 10ms steps\n",
    "\n",
    "for command in [c1,c2,c3,c4,c5]:\n",
    "    thread1.set_controls(command)"
   ]
  },
  {
   "cell_type": "code",
   "execution_count": 7,
   "metadata": {},
   "outputs": [
    {
     "name": "stdout",
     "output_type": "stream",
     "text": [
      "22\n",
      "0.5\n",
      "5\n",
      "10\n",
      "2.0\n"
     ]
    }
   ],
   "source": [
    "print(thread1.ContollInstance.Controller.PIP)\n",
    "print(thread1.ContollInstance.Controller.PIP_time)\n",
    "print(thread1.ContollInstance.Controller.PEEP)\n",
    "print(thread1.ContollInstance.Controller.bpm)\n",
    "print(thread1.ContollInstance.Controller.I_phase)"
   ]
  },
  {
   "cell_type": "markdown",
   "metadata": {},
   "source": [
    "# And this is to get the data"
   ]
  },
  {
   "cell_type": "code",
   "execution_count": 9,
   "metadata": {},
   "outputs": [
    {
     "name": "stdout",
     "output_type": "stream",
     "text": [
      "Controller-1: Sat Apr 18 18:01:53 2020\n",
      "Internal counter =3000.0.\n",
      "\n",
      "Controller-1: Sat Apr 18 18:01:55 2020\n",
      "Internal counter =2811.0.\n",
      "\n",
      "Controller-1: Sat Apr 18 18:01:57 2020\n",
      "Internal counter =2621.0.\n",
      "\n",
      "Controller-1: Sat Apr 18 18:01:59 2020\n",
      "Internal counter =2430.0.\n",
      "\n",
      "Controller-1: Sat Apr 18 18:02:01 2020\n",
      "Internal counter =2239.0.\n",
      "\n",
      "Controller-1: Sat Apr 18 18:02:04 2020\n",
      "Internal counter =2047.0.\n",
      "\n",
      "Controller-1: Sat Apr 18 18:02:06 2020\n",
      "Internal counter =1858.0.\n",
      "\n",
      "Controller-1: Sat Apr 18 18:02:08 2020\n",
      "Internal counter =1668.0.\n",
      "\n",
      "Controller-1: Sat Apr 18 18:02:10 2020\n",
      "Internal counter =1481.0.\n",
      "\n",
      "Controller-1: Sat Apr 18 18:02:12 2020\n",
      "Internal counter =1293.0.\n",
      "\n",
      "Controller-1: Sat Apr 18 18:02:14 2020\n",
      "Internal counter =1103.0.\n",
      "\n",
      "Controller-1: Sat Apr 18 18:02:16 2020\n",
      "Internal counter =912.0.\n",
      "\n",
      "Controller-1: Sat Apr 18 18:02:18 2020\n",
      "Internal counter =724.0.\n",
      "\n",
      "Controller-1: Sat Apr 18 18:02:20 2020\n",
      "Internal counter =538.0.\n",
      "\n",
      "Controller-1: Sat Apr 18 18:02:22 2020\n",
      "Internal counter =348.0.\n",
      "\n"
     ]
    }
   ],
   "source": [
    "sample_times = 0.05 #get a sample every 50ms\n",
    "\n",
    "thread1.start()  # Start Controller\n",
    "\n",
    "ls = []\n",
    "tt = []\n",
    "for t in np.arange(0,runtime,sample_times):\n",
    "    \n",
    "    if t%2==0:  # ask for a heartbeat from thread two seconds\n",
    "        thread1.heartbeat()\n",
    "    \n",
    "    if t>15:    #after 15 sec, set PEEP to 10\n",
    "        command = ControlSettings(name=ControlSettingName.PEEP, value=10, min_value=9, \\\n",
    "                          max_value=12, timestamp=time.time())\n",
    "        thread1.set_controls(command)\n",
    "        \n",
    "    vals = thread1.get_sensor_values()\n",
    "    ls.append(vals)\n",
    "    tt.append(time.time())\n",
    "    \n",
    "    time.sleep(0.05)\n",
    "\n",
    "\n",
    "# to be implemented:\n",
    "#     instance.get_alarms()\n",
    "#     instance.get_active_alarms()\n",
    "#     instance.get_logged_alarms()"
   ]
  },
  {
   "cell_type": "code",
   "execution_count": 10,
   "metadata": {},
   "outputs": [
    {
     "data": {
      "text/plain": [
       "<matplotlib.legend.Legend at 0x1216d0110>"
      ]
     },
     "execution_count": 10,
     "metadata": {},
     "output_type": "execute_result"
    },
    {
     "data": {
      "image/png": "[encoded data removed]",
      "text/plain": [
       "<Figure size 432x288 with 1 Axes>"
      ]
     },
     "metadata": {
      "needs_background": "light"
     },
     "output_type": "display_data"
    }
   ],
   "source": [
    "pip = thread1.ContollInstance.Controller.PIP\n",
    "peep = thread1.ContollInstance.Controller.PEEP\n",
    "\n",
    "pl.plot(tt, [s.pressure for s in ls], label = 'pressure')\n",
    "pl.plot(tt, [s.temp for s in ls], label = \"temperature\")\n",
    "pl.plot(tt, [s.humidity/3 for s in ls], label = \"humidity\")\n",
    "pl.plot([np.min(tt), np.max(tt)], [pip, pip], 'k--')\n",
    "pl.plot([np.min(tt), np.max(tt)], [peep, peep], 'k--')\n",
    "\n",
    "pl.legend()"
   ]
  },
  {
   "cell_type": "code",
   "execution_count": null,
   "metadata": {},
   "outputs": [],
   "source": []
  },
  {
   "cell_type": "code",
   "execution_count": null,
   "metadata": {},
   "outputs": [],
   "source": []
  },
  {
   "cell_type": "code",
   "execution_count": null,
   "metadata": {},
   "outputs": [],
   "source": []
  }
 ],
 "metadata": {
  "kernelspec": {
   "display_name": "Python 3",
   "language": "python",
   "name": "python3"
  },
  "language_info": {
   "codemirror_mode": {
    "name": "ipython",
    "version": 3
   },
   "file_extension": ".py",
   "mimetype": "text/x-python",
   "name": "python",
   "nbconvert_exporter": "python",
   "pygments_lexer": "ipython3",
   "version": "3.7.7"
  }
 },
 "nbformat": 4,
 "nbformat_minor": 2
}
