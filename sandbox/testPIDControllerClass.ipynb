{
 "cells": [
  {
   "cell_type": "markdown",
   "metadata": {},
   "source": [
    "Then this is supposed to work"
   ]
  },
  {
   "cell_type": "code",
   "execution_count": 1,
   "metadata": {},
   "outputs": [],
   "source": [
    "import threading\n",
    "import sys\n",
    "import time\n",
    "import numpy as np\n",
    "import pylab as pl\n",
    "\n",
    "sys.path.append('../')\n",
    "\n",
    "from vent.coordinator.control_module import get_control_module   # this is the file to change\n",
    "from vent.coordinator.message import SensorValues, ControlSettings, Alarm, ControlSettingName"
   ]
  },
  {
   "cell_type": "markdown",
   "metadata": {},
   "source": [
    "## First, wrap the controller in a thread"
   ]
  },
  {
   "cell_type": "code",
   "execution_count": 2,
   "metadata": {},
   "outputs": [],
   "source": [
    "class ControllerThread(threading.Thread):\n",
    "    def __init__(self, threadID, name, counter):\n",
    "        threading.Thread.__init__(self)\n",
    "        self.threadID        = threadID\n",
    "        self.name            = name\n",
    "        self.counter         = counter\n",
    "        self.ContollInstance = get_control_module(sim_mode=True)\n",
    "\n",
    "    def run(self):\n",
    "        while self.counter:\n",
    "            #     controls actuators to achieve target state\n",
    "            self.ContollInstance.run()  # run a contol update \n",
    "            time.sleep(.01)             # wait 10ms\n",
    "            self.counter -= 1\n",
    "\n",
    "    def set_controls(self, exampleCS):\n",
    "        self.ContollInstance.set_controls(exampleCS)\n",
    "        \n",
    "    def get_sensor_values(self):\n",
    "        # returns SensorValues, include a timestamp and loop counter\n",
    "        sv = self.ContollInstance.get_sensors_values()\n",
    "        sv.loop_counter = self.counter\n",
    "        return sv\n",
    "\n",
    "    def heartbeat(self):\n",
    "        print (\"%s: %s\" % (self.name, time.ctime(time.time())))\n",
    "        print(\"Internal counter =\" + str(self.counter)+'.\\n')\n"
   ]
  },
  {
   "cell_type": "markdown",
   "metadata": {},
   "source": [
    "# Set the controls"
   ]
  },
  {
   "cell_type": "markdown",
   "metadata": {},
   "source": [
    "These are the allowed control settings. Only the first five (PIP, PIP_TIME, PEEP, BPM, INSPIRATION_TIM) can be set. The others are controlled in hardware."
   ]
  },
  {
   "cell_type": "code",
   "execution_count": 5,
   "metadata": {},
   "outputs": [
    {
     "data": {
      "text/plain": [
       "[<ControlSettingName.PIP: 1>,\n",
       " <ControlSettingName.PIP_TIME: 2>,\n",
       " <ControlSettingName.PEEP: 3>,\n",
       " <ControlSettingName.BREATHS_PER_MINUTE: 4>,\n",
       " <ControlSettingName.INSPIRATION_TIME_SEC: 5>,\n",
       " <ControlSettingName.FIO2: 6>,\n",
       " <ControlSettingName.TEMP: 7>,\n",
       " <ControlSettingName.HUMIDITY: 8>,\n",
       " <ControlSettingName.VTE: 9>]"
      ]
     },
     "execution_count": 5,
     "metadata": {},
     "output_type": "execute_result"
    }
   ],
   "source": [
    "list(ControlSettingName)"
   ]
  },
  {
   "cell_type": "code",
   "execution_count": 6,
   "metadata": {},
   "outputs": [],
   "source": [
    "c1 = ControlSettings(name=ControlSettingName.PIP, value=22, min_value=20, \\\n",
    "                          max_value=24, timestamp=time.time())\n",
    "\n",
    "c2 = ControlSettings(name=ControlSettingName.PIP_TIME, value=0.5, min_value=0.2, \\\n",
    "                          max_value=0.5, timestamp=time.time())\n",
    "\n",
    "c3 = ControlSettings(name=ControlSettingName.PEEP, value=5, min_value=4, \\\n",
    "                          max_value=6, timestamp=time.time())\n",
    "\n",
    "c4 = ControlSettings(name=ControlSettingName.BREATHS_PER_MINUTE, value=10, \\\n",
    "                          min_value=18, max_value=22, timestamp=time.time())\n",
    "\n",
    "c5 = ControlSettings(name=ControlSettingName.INSPIRATION_TIME_SEC, value=2.0, \n",
    "                          min_value=1.0, max_value=1.5, timestamp=time.time())"
   ]
  },
  {
   "cell_type": "code",
   "execution_count": 7,
   "metadata": {},
   "outputs": [],
   "source": [
    "#Set the controls"
   ]
  },
  {
   "cell_type": "code",
   "execution_count": 8,
   "metadata": {},
   "outputs": [],
   "source": [
    "runtime = 30 # run this for 30 seconds\n",
    "\n",
    "thread1 = ControllerThread(1, \"Controller-1\", runtime/0.01) #5sec in 10ms steps\n",
    "\n",
    "for command in [c1,c2,c3,c4,c5]:\n",
    "    thread1.set_controls(command)"
   ]
  },
  {
   "cell_type": "code",
   "execution_count": 9,
   "metadata": {},
   "outputs": [
    {
     "name": "stdout",
     "output_type": "stream",
     "text": [
      "22\n",
      "0.5\n",
      "5\n",
      "10\n",
      "2.0\n"
     ]
    }
   ],
   "source": [
    "print(thread1.ContollInstance.Controller.PIP)\n",
    "print(thread1.ContollInstance.Controller.PIP_time)\n",
    "print(thread1.ContollInstance.Controller.PEEP)\n",
    "print(thread1.ContollInstance.Controller.bpm)\n",
    "print(thread1.ContollInstance.Controller.I_phase)"
   ]
  },
  {
   "cell_type": "code",
   "execution_count": null,
   "metadata": {},
   "outputs": [],
   "source": []
  },
  {
   "cell_type": "code",
   "execution_count": null,
   "metadata": {},
   "outputs": [],
   "source": []
  },
  {
   "cell_type": "code",
   "execution_count": 10,
   "metadata": {},
   "outputs": [
    {
     "name": "stdout",
     "output_type": "stream",
     "text": [
      "Controller-1: Sat Apr 18 17:47:14 2020\n",
      "Internal counter =3000.0.\n",
      "\n",
      "Controller-1: Sat Apr 18 17:47:16 2020\n",
      "Internal counter =2816.0.\n",
      "\n",
      "Controller-1: Sat Apr 18 17:47:18 2020\n",
      "Internal counter =2632.0.\n",
      "\n",
      "Controller-1: Sat Apr 18 17:47:21 2020\n",
      "Internal counter =2450.0.\n",
      "\n",
      "Controller-1: Sat Apr 18 17:47:23 2020\n",
      "Internal counter =2267.0.\n",
      "\n",
      "Controller-1: Sat Apr 18 17:47:25 2020\n",
      "Internal counter =2082.0.\n",
      "\n",
      "Controller-1: Sat Apr 18 17:47:27 2020\n",
      "Internal counter =1896.0.\n",
      "\n",
      "Controller-1: Sat Apr 18 17:47:29 2020\n",
      "Internal counter =1709.0.\n",
      "\n",
      "Controller-1: Sat Apr 18 17:47:31 2020\n",
      "Internal counter =1523.0.\n",
      "\n",
      "Controller-1: Sat Apr 18 17:47:33 2020\n",
      "Internal counter =1338.0.\n",
      "\n",
      "Controller-1: Sat Apr 18 17:47:35 2020\n",
      "Internal counter =1151.0.\n",
      "\n",
      "Controller-1: Sat Apr 18 17:47:37 2020\n",
      "Internal counter =970.0.\n",
      "\n",
      "Controller-1: Sat Apr 18 17:47:39 2020\n",
      "Internal counter =789.0.\n",
      "\n",
      "Controller-1: Sat Apr 18 17:47:41 2020\n",
      "Internal counter =606.0.\n",
      "\n",
      "Controller-1: Sat Apr 18 17:47:43 2020\n",
      "Internal counter =423.0.\n",
      "\n"
     ]
    }
   ],
   "source": [
    "sample_times = 0.05 #get a sample every 50ms\n",
    "\n",
    "thread1.start()  # Start Controller\n",
    "\n",
    "ls = []\n",
    "tt = []\n",
    "for t in np.arange(0,runtime,sample_times):\n",
    "    \n",
    "    #ask for a heartbeat every two seconds\n",
    "    if t%2==0:\n",
    "        thread1.heartbeat()\n",
    "    \n",
    "    vals = thread1.get_sensor_values()\n",
    "    ls.append(vals)\n",
    "    tt.append(time.time())\n",
    "    \n",
    "    time.sleep(0.05)\n",
    "\n",
    "\n",
    "\n",
    "#     instance.get_alarms()\n",
    "#     instance.get_active_alarms()\n",
    "#     instance.get_logged_alarms()"
   ]
  },
  {
   "cell_type": "code",
   "execution_count": 11,
   "metadata": {},
   "outputs": [
    {
     "data": {
      "text/plain": [
       "<function matplotlib.pyplot.legend(*args, **kwargs)>"
      ]
     },
     "execution_count": 11,
     "metadata": {},
     "output_type": "execute_result"
    },
    {
     "data": {
      "image/png": "[encoded data removed]",
      "text/plain": [
       "<Figure size 432x288 with 1 Axes>"
      ]
     },
     "metadata": {
      "needs_background": "light"
     },
     "output_type": "display_data"
    }
   ],
   "source": [
    "pip = thread1.ContollInstance.Controller.PIP\n",
    "peep = thread1.ContollInstance.Controller.PEEP\n",
    "\n",
    "pl.plot(tt, [s.pressure for s in ls], label = 'pressure')\n",
    "# pl.plot(tt, [s.temp for s in ls], label = \"temperatue\")\n",
    "# pl.plot(tt, [s.humidity for s in ls], label = \"humidity\")\n",
    "pl.plot([np.min(tt), np.max(tt)], [pip, pip], 'k--')\n",
    "pl.plot([np.min(tt), np.max(tt)], [peep, peep], 'k--')\n",
    "\n",
    "pl.legend"
   ]
  },
  {
   "cell_type": "code",
   "execution_count": null,
   "metadata": {},
   "outputs": [],
   "source": []
  },
  {
   "cell_type": "code",
   "execution_count": null,
   "metadata": {},
   "outputs": [],
   "source": []
  },
  {
   "cell_type": "code",
   "execution_count": null,
   "metadata": {},
   "outputs": [],
   "source": []
  }
 ],
 "metadata": {
  "kernelspec": {
   "display_name": "Python 3",
   "language": "python",
   "name": "python3"
  },
  "language_info": {
   "codemirror_mode": {
    "name": "ipython",
    "version": 3
   },
   "file_extension": ".py",
   "mimetype": "text/x-python",
   "name": "python",
   "nbconvert_exporter": "python",
   "pygments_lexer": "ipython3",
   "version": "3.7.7"
  }
 },
 "nbformat": 4,
 "nbformat_minor": 2
}
