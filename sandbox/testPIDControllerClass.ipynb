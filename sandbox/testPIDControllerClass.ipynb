{
 "cells": [
  {
   "cell_type": "markdown",
   "metadata": {},
   "source": [
    "Then this is supposed to work"
   ]
  },
  {
   "cell_type": "code",
   "execution_count": 1,
   "metadata": {},
   "outputs": [],
   "source": [
    "import threading\n",
    "import sys\n",
    "import time\n",
    "import numpy as np\n",
    "import pylab as pl\n",
    "\n",
    "sys.path.append('../')\n",
    "\n",
    "from vent.coordinator.control_module import get_control_module   # this is the file to change\n",
    "from vent.coordinator.message import SensorValues, ControlSettings, Alarm"
   ]
  },
  {
   "cell_type": "code",
   "execution_count": 2,
   "metadata": {},
   "outputs": [],
   "source": [
    "example = SensorValues()\n",
    "example."
   ]
  },
  {
   "cell_type": "code",
   "execution_count": null,
   "metadata": {},
   "outputs": [],
   "source": []
  },
  {
   "cell_type": "code",
   "execution_count": 3,
   "metadata": {},
   "outputs": [],
   "source": [
    "exampleCS = ControlSettings(name='PEEP', value=5, min_value=4, \\\n",
    "                          max_value=6, timestamp=time.time())"
   ]
  },
  {
   "cell_type": "code",
   "execution_count": 4,
   "metadata": {},
   "outputs": [],
   "source": [
    "exitFlag = 0\n",
    "\n",
    "class ControllerThread(threading.Thread):\n",
    "    def __init__(self, threadID, name, counter):\n",
    "        threading.Thread.__init__(self)\n",
    "        self.threadID        = threadID\n",
    "        self.name            = name\n",
    "        self.counter         = counter\n",
    "        self.ContollInstance = get_control_module(sim_mode=True)\n",
    "        \n",
    "        \n",
    "    def run(self):\n",
    "        while self.counter:\n",
    "            if exitFlag:\n",
    "                self.name.exit()\n",
    "\n",
    "            self.ContollInstance.run()  # run a contol update \n",
    "            \n",
    "            time.sleep(.01)             # wait 10ms\n",
    "            self.counter -= 1\n",
    "\n",
    "    def set_controls(self, exampleCS):\n",
    "        self.ContollInstance.set_controls(exampleCS)\n",
    "        \n",
    "    def get_controls(self):\n",
    "        self.ContollInstance.get_controls()\n",
    "        \n",
    "    def get_sensor_values(self):\n",
    "        return self.ContollInstance.get_sensors_values()\n",
    "\n",
    "    def heartbeat(self):\n",
    "        print (\"%s: %s\" % (self.name, time.ctime(time.time())))\n",
    "        print(\"...happy... and internal counter=\" + str(self.counter)+'.\\n')\n"
   ]
  },
  {
   "cell_type": "code",
   "execution_count": null,
   "metadata": {},
   "outputs": [],
   "source": []
  },
  {
   "cell_type": "code",
   "execution_count": 7,
   "metadata": {},
   "outputs": [],
   "source": [
    "runtime = 10 #sec\n",
    "\n",
    "thread1 = ControllerThread(1, \"Controller-1\", 10/0.01) #5sec in 10ms steps\n",
    "\n",
    "# Start Controller\n",
    "thread1.start()\n",
    "\n",
    "ls = []\n",
    "tt = []\n",
    "for t in np.arange(0,runtime,0.05):\n",
    "#     thread1.heartbeat()\n",
    "    vals = thread1.get_sensor_values()\n",
    "    ls.append(vals)\n",
    "    tt.append(time.time())\n",
    "    \n",
    "    time.sleep(0.05)\n",
    "\n",
    "\n",
    "#     controls actuators to achieve target state\n",
    "#     determined by settings and assessed by sensor values\n",
    "\n",
    "#     instance.get_sensor_values()\n",
    "#     returns SensorValues, include a timestamp and loop counter\n",
    "\n",
    "#     instance.get_alarms()\n",
    "#     instance.get_active_alarms()\n",
    "#     instance.get_logged_alarms()"
   ]
  },
  {
   "cell_type": "code",
   "execution_count": 14,
   "metadata": {},
   "outputs": [
    {
     "data": {
      "text/plain": [
       "<function matplotlib.pyplot.legend(*args, **kwargs)>"
      ]
     },
     "execution_count": 14,
     "metadata": {},
     "output_type": "execute_result"
    },
    {
     "data": {
      "image/png": "[encoded data removed]",
      "text/plain": [
       "<Figure size 432x288 with 1 Axes>"
      ]
     },
     "metadata": {
      "needs_background": "light"
     },
     "output_type": "display_data"
    }
   ],
   "source": [
    "pl.plot(tt, [s.pressure for s in ls], label = 'pressure')\n",
    "pl.plot(tt, [s.temp for s in ls], label = \"humidity\")\n",
    "pl.plot(tt, [s.humidity for s in ls], label = \"pressure\")\n",
    "pl.legend"
   ]
  },
  {
   "cell_type": "code",
   "execution_count": null,
   "metadata": {},
   "outputs": [],
   "source": []
  },
  {
   "cell_type": "code",
   "execution_count": null,
   "metadata": {},
   "outputs": [],
   "source": []
  },
  {
   "cell_type": "markdown",
   "metadata": {},
   "source": [
    "## Notepad"
   ]
  },
  {
   "cell_type": "code",
   "execution_count": 7,
   "metadata": {},
   "outputs": [
    {
     "name": "stdout",
     "output_type": "stream",
     "text": [
      "continuing code\n",
      "...happy... and counter=5.\n",
      "\n",
      "Thread-1: Sat Apr 18 13:05:57 2020\n",
      "Thread-1: Sat Apr 18 13:05:58 2020\n",
      "...happy... and counter=3.\n",
      "\n",
      "Thread-1: Sat Apr 18 13:05:59 2020\n",
      "Thread-1: Sat Apr 18 13:06:00 2020\n",
      "Thread-1: Sat Apr 18 13:06:01 2020\n"
     ]
    }
   ],
   "source": [
    "import threading\n",
    "import time\n",
    "\n",
    "exitFlag = 0\n",
    "\n",
    "class ControllerThread(threading.Thread):\n",
    "    def __init__(self, threadID, name, counter):\n",
    "        threading.Thread.__init__(self)\n",
    "        self.threadID = threadID\n",
    "        self.name = name\n",
    "        self.counter = counter\n",
    "        \n",
    "    def run(self):\n",
    "        while self.counter:\n",
    "            if exitFlag:\n",
    "                self.name.exit()\n",
    "            time.sleep(1)\n",
    "            print (\"%s: %s\" % (self.name, time.ctime(time.time())))\n",
    "            self.counter -= 1\n",
    "\n",
    "    def status(self):\n",
    "        print(\"...happy... and counter=\" + str(self.counter)+'.\\n')\n",
    "            \n",
    "\n",
    "# Create new threads\n",
    "thread1 = ControllerThread(1, \"Thread-1\", 5)\n",
    "\n",
    "# Start new Threads\n",
    "thread1.start()\n",
    "print(\"continuing code\")\n",
    "\n",
    "thread1.status()\n",
    "time.sleep(3)\n",
    "thread1.status()\n"
   ]
  },
  {
   "cell_type": "code",
   "execution_count": null,
   "metadata": {},
   "outputs": [],
   "source": []
  }
 ],
 "metadata": {
  "kernelspec": {
   "display_name": "Python 3",
   "language": "python",
   "name": "python3"
  },
  "language_info": {
   "codemirror_mode": {
    "name": "ipython",
    "version": 3
   },
   "file_extension": ".py",
   "mimetype": "text/x-python",
   "name": "python",
   "nbconvert_exporter": "python",
   "pygments_lexer": "ipython3",
   "version": "3.7.7"
  }
 },
 "nbformat": 4,
 "nbformat_minor": 2
}
