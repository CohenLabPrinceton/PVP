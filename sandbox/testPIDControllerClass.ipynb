{
 "cells": [
  {
   "cell_type": "markdown",
   "metadata": {},
   "source": []
  },
  {
   "cell_type": "code",
   "execution_count": null,
   "metadata": {},
   "outputs": [],
   "source": []
  },
  {
   "cell_type": "markdown",
   "metadata": {},
   "source": [
    "Then this is supposed to work"
   ]
  },
  {
   "cell_type": "code",
   "execution_count": 15,
   "metadata": {},
   "outputs": [],
   "source": [
    "import threading\n",
    "import sys\n",
    "import time\n",
    "import numpy as np\n",
    "import pylab as pl\n",
    "\n",
    "sys.path.append('../')\n",
    "\n",
    "from vent.coordinator.control_module import get_control_module   #this is the file to change\n",
    "from vent.coordinator.message import SensorValues, ControlSettings, Alarm\n"
   ]
  },
  {
   "cell_type": "code",
   "execution_count": 2,
   "metadata": {},
   "outputs": [],
   "source": [
    "example = SensorValues(pip=20, peep=5, fio2=60, temp=37, humidity=90, vte=3, \\\n",
    "                       breaths_per_minute=20, inspiration_time_sec=1.5, \\\n",
    "                       timestamp=time.time())"
   ]
  },
  {
   "cell_type": "code",
   "execution_count": 3,
   "metadata": {},
   "outputs": [],
   "source": [
    "exampleCS = ControlSettings(name='PEEP', value=5, min_value=4, \\\n",
    "                          max_value=6, timestamp=time.time())"
   ]
  },
  {
   "cell_type": "code",
   "execution_count": 23,
   "metadata": {},
   "outputs": [],
   "source": [
    "exitFlag = 0\n",
    "\n",
    "class ControllerThread(threading.Thread):\n",
    "    def __init__(self, threadID, name, counter):\n",
    "        threading.Thread.__init__(self)\n",
    "        self.threadID        = threadID\n",
    "        self.name            = name\n",
    "        self.counter         = counter\n",
    "        self.ContollInstance = get_control_module(sim_mode=True)\n",
    "        \n",
    "    def run(self):\n",
    "        while self.counter:\n",
    "            if exitFlag:\n",
    "                self.name.exit()\n",
    "\n",
    "            self.ContollInstance.run()  # run a contol update \n",
    "            \n",
    "            time.sleep(.01)             # wait 10ms\n",
    "            self.counter -= 1\n",
    "\n",
    "    def set_controls(self, exampleCS):\n",
    "        self.ContollInstance.set_controls(exampleCS)\n",
    "        \n",
    "    def get_pressure(self):\n",
    "        return self.ContollInstance.get_sensors_values()\n",
    "\n",
    "    def heartbeat(self):\n",
    "        print (\"%s: %s\" % (self.name, time.ctime(time.time())))\n",
    "        print(\"...happy... and internal counter=\" + str(self.counter)+'.\\n')\n"
   ]
  },
  {
   "cell_type": "code",
   "execution_count": 24,
   "metadata": {},
   "outputs": [
    {
     "data": {
      "text/plain": [
       "1000.0"
      ]
     },
     "execution_count": 24,
     "metadata": {},
     "output_type": "execute_result"
    }
   ],
   "source": [
    "10/.01"
   ]
  },
  {
   "cell_type": "code",
   "execution_count": 25,
   "metadata": {},
   "outputs": [],
   "source": [
    "# Create ControllerThread\n",
    "\n",
    "runtime = 10 #sec\n",
    "\n",
    "thread1 = ControllerThread(1, \"Controller-1\", 10/0.01) #5sec in 10ms steps\n",
    "\n",
    "# Start Controller\n",
    "thread1.start()\n",
    "\n",
    "ls = []\n",
    "for t in np.arange(0,runtime,0.05):\n",
    "#     thread1.heartbeat()\n",
    "    p = thread1.get_pressure()\n",
    "    ls.append(p)\n",
    "    time.sleep(0.05)\n",
    "\n",
    "\n",
    "#     controls actuators to achieve target state\n",
    "#     determined by settings and assessed by sensor values\n",
    "\n",
    "#     instance.get_sensor_values()\n",
    "#     returns SensorValues, include a timestamp and loop counter\n",
    "\n",
    "#     instance.get_alarms()\n",
    "#     instance.get_active_alarms()\n",
    "#     instance.get_logged_alarms()"
   ]
  },
  {
   "cell_type": "code",
   "execution_count": 26,
   "metadata": {},
   "outputs": [
    {
     "data": {
      "text/plain": [
       "[<matplotlib.lines.Line2D at 0x116cf8a50>]"
      ]
     },
     "execution_count": 26,
     "metadata": {},
     "output_type": "execute_result"
    },
    {
     "data": {
      "image/png": "[encoded data removed]",
      "text/plain": [
       "<Figure size 432x288 with 1 Axes>"
      ]
     },
     "metadata": {
      "needs_background": "light"
     },
     "output_type": "display_data"
    }
   ],
   "source": [
    "pl.plot(ls)"
   ]
  },
  {
   "cell_type": "code",
   "execution_count": null,
   "metadata": {},
   "outputs": [],
   "source": []
  },
  {
   "cell_type": "code",
   "execution_count": null,
   "metadata": {},
   "outputs": [],
   "source": []
  },
  {
   "cell_type": "markdown",
   "metadata": {},
   "source": [
    "## Notepad"
   ]
  },
  {
   "cell_type": "code",
   "execution_count": 32,
   "metadata": {},
   "outputs": [
    {
     "name": "stdout",
     "output_type": "stream",
     "text": [
      "continuing code\n",
      "...happy... and counter=5.\n",
      "\n",
      "Thread-1: Sat Apr 18 11:45:10 2020\n",
      "Thread-1: Sat Apr 18 11:45:11 2020\n",
      "...happy... and counter=3.\n",
      "\n",
      "Thread-1: Sat Apr 18 11:45:12 2020\n",
      "Thread-1: Sat Apr 18 11:45:13 2020\n",
      "Thread-1: Sat Apr 18 11:45:14 2020\n"
     ]
    }
   ],
   "source": [
    "import threading\n",
    "import time\n",
    "\n",
    "exitFlag = 0\n",
    "\n",
    "class ControllerThread(threading.Thread):\n",
    "    def __init__(self, threadID, name, counter):\n",
    "        threading.Thread.__init__(self)\n",
    "        self.threadID = threadID\n",
    "        self.name = name\n",
    "        self.counter = counter\n",
    "        \n",
    "    def run(self):\n",
    "        while self.counter:\n",
    "            if exitFlag:\n",
    "                self.name.exit()\n",
    "            time.sleep(1)\n",
    "            print (\"%s: %s\" % (self.name, time.ctime(time.time())))\n",
    "            self.counter -= 1\n",
    "\n",
    "    def status(self):\n",
    "        print(\"...happy... and counter=\" + str(self.counter)+'.\\n')\n",
    "            \n",
    "\n",
    "# Create new threads\n",
    "thread1 = ControllerThread(1, \"Thread-1\", 5)\n",
    "\n",
    "# Start new Threads\n",
    "thread1.start()\n",
    "print(\"continuing code\")\n",
    "\n",
    "thread1.status()\n",
    "time.sleep(3)\n",
    "thread1.status()\n"
   ]
  },
  {
   "cell_type": "code",
   "execution_count": null,
   "metadata": {},
   "outputs": [],
   "source": []
  }
 ],
 "metadata": {
  "kernelspec": {
   "display_name": "Python 3",
   "language": "python",
   "name": "python3"
  },
  "language_info": {
   "codemirror_mode": {
    "name": "ipython",
    "version": 3
   },
   "file_extension": ".py",
   "mimetype": "text/x-python",
   "name": "python",
   "nbconvert_exporter": "python",
   "pygments_lexer": "ipython3",
   "version": "3.7.7"
  }
 },
 "nbformat": 4,
 "nbformat_minor": 2
}
